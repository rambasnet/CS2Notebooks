{
 "cells": [
  {
   "cell_type": "markdown",
   "metadata": {
    "solution": "shown"
   },
   "source": [
    "# Algorithm Analysis\n",
    "https://opendsa-server.cs.vt.edu/ODSA/Books/CS2/html/AnalPrelim.html#id1\n",
    "\n",
    "## Table of Contents\n",
    "**[Problems, Algorithms, and Programs](#problems)** <br>\n",
    "**[Comparing Algorithms](#comparing)** <br>\n",
    "**[Growth Rates](#growthrates)** <br>\n",
    "**[Best, Worst, and Average Cases](#cases)** <br>\n",
    "**[Which one to study?](#whichone)** <br>\n",
    "**[Asymptotic Analysis](#asymptotic)**<br>\n",
    "**[Big-Oh](#bigo\")**<br>\n",
    "**[Asymptotic Simplifying Rules](#rules)**<br>\n",
    "**[Big-Omega](#bigomega)**<br>\n",
    "**[Big-Theta](#bigtheta)**<br>\n",
    "**[Analyzing Algorithms Examples](#examples)**<br>"
   ]
  },
  {
   "cell_type": "markdown",
   "metadata": {},
   "source": [
    "## include headers required for this notebook"
   ]
  },
  {
   "cell_type": "code",
   "execution_count": 2,
   "metadata": {},
   "outputs": [],
   "source": [
    "// include headers for this notebook\n",
    "#include <iostream>\n",
    "#include <vector>\n",
    "\n",
    "using namespace std;"
   ]
  },
  {
   "cell_type": "markdown",
   "metadata": {},
   "source": [
    "<a id=\"problems\"></a>"
   ]
  },
  {
   "cell_type": "markdown",
   "metadata": {},
   "source": [
    "## Problems, Algorithms and Programs\n",
    "- programmers commonly deal with problems, algorithms, and computer programs"
   ]
  },
  {
   "cell_type": "markdown",
   "metadata": {
    "heading_collapsed": true
   },
   "source": [
    "### Problems\n",
    "- problem is a task to be performed\n",
    "- it is best thought in terms of inputs and matching outputs\n",
    "- problem definition should include constraints on the resources that may be consumed by any acceptable solution\n",
    "    - E.g., any computer program may use only the main memory and and disk space available, and it must run in \"reasonable\" amount of time\n",
    "    \n",
    "### Algorithms\n",
    "- is a method or a process followed to solve a problem\n",
    "- if the problem is viewed as a function, then an algorithm is an implementation for the function that transforms an input to the corresponding output\n",
    "- for sorting problem, there are over a dozen commonly known algorithms\n",
    "    - algorithm A might be more efficient than algorithm B for a specific variation of the problem, or a specific class of inputs to the problem\n",
    "- properties of algorithm:\n",
    "    1. must be correct\n",
    "    2. is composed of a series of concrete steps like a \"recipe\"\n",
    "    3. there is no ambiguity as to which step will be performed next\n",
    "    4. must be composed of a finite number of steps\n",
    "    5. must terminate (may not go into infinite loop)\n",
    "    \n",
    "### Programs\n",
    "- an instance or concrete representation of an algorithm in some programming language\n",
    "- some programs do terminate some don't (e.g., Operating systems)"
   ]
  },
  {
   "cell_type": "markdown",
   "metadata": {
    "solution": "hidden",
    "solution2": "shown",
    "solution2_first": true,
    "solution_first": true
   },
   "source": [
    "### Exercise\n",
    "An algorithm is a series of steps that act as a recipe to solve a particular problem:\n",
    "True or False"
   ]
  },
  {
   "cell_type": "markdown",
   "metadata": {},
   "source": [
    "<a id=\"comparing\"></a>"
   ]
  },
  {
   "cell_type": "markdown",
   "metadata": {},
   "source": [
    "## Comparing Algorithms"
   ]
  },
  {
   "cell_type": "markdown",
   "metadata": {},
   "source": [
    "- how do you compare two algorithms for solving some problem in terms of efficiency?\n",
    "    - simply implementing all algorithms and testing on some data is not satisfactory as the technique may be prone to many problems\n",
    "- **Asymptotic analysis** measures the efficiency of an algorithm, or its implementation as a program, as the input size becomes large\n",
    "- critical resource for a program is most often its running time\n",
    "    - however, one must be concerned with other factors such as the space required to run the program (both main memory and disk space)"
   ]
  },
  {
   "cell_type": "markdown",
   "metadata": {},
   "source": [
    "### Basic Operations and Input Size\n",
    "- when estimating an algorithm, one must consider the number of *basic operations* required by the algorithm to process an input of a certain size\n",
    "    - basic operations are problem and algorithm dependent\n",
    "    - size is often the number of inputs processed\n",
    "    - e.g., while searching or sorting, the size of problem is typically measured by the number of records to shift through"
   ]
  },
  {
   "cell_type": "markdown",
   "metadata": {},
   "source": [
    "#### Example 1"
   ]
  },
  {
   "cell_type": "code",
   "execution_count": 3,
   "metadata": {},
   "outputs": [],
   "source": [
    "/*\n",
    "     Example 1\n",
    "     Consider a simple algorithm to solve the problem of finding \n",
    "     the largest value in an array of n integers\n",
    "     - the algorithm looks at each integer in turn, \n",
    "     saving the position of the largest value seen so far\n",
    "*/\n",
    "size_t largest(vector<int> &v) {\n",
    "    int currLarge = 0; // position of largest element seen\n",
    "    for(int i=1; i<v.size(); i++) { // for each element\n",
    "        if (v[currLarge] < v[i]) // if v[i] is larger **main operation**\n",
    "            currLarge = i; // remember its position\n",
    "    }\n",
    "    return currLarge; // return largest position\n",
    "}"
   ]
  },
  {
   "cell_type": "code",
   "execution_count": 4,
   "metadata": {},
   "outputs": [],
   "source": [
    "vector<int> nums = {1, 2, 3, 4, 5, 6, 7, 8, 9, 10};"
   ]
  },
  {
   "cell_type": "code",
   "execution_count": 5,
   "metadata": {},
   "outputs": [],
   "source": [
    "#include <cassert>"
   ]
  },
  {
   "cell_type": "code",
   "execution_count": 10,
   "metadata": {},
   "outputs": [
    {
     "name": "stdout",
     "output_type": "stream",
     "text": [
      "index of largest num = 9\n"
     ]
    }
   ],
   "source": [
    "assert(largest(nums) == 9);\n",
    "cout << \"index of largest num = \" << largest(nums) << endl;"
   ]
  },
  {
   "cell_type": "code",
   "execution_count": 9,
   "metadata": {},
   "outputs": [
    {
     "name": "stdout",
     "output_type": "stream",
     "text": [
      "1\n",
      "4\n",
      "8\n",
      "4\n",
      "8\n",
      "2\n"
     ]
    }
   ],
   "source": [
    "cout << sizeof(char) << endl;\n",
    "cout << sizeof(int) << endl;\n",
    "cout << sizeof(double) << endl;\n",
    "cout << sizeof(float) << endl;\n",
    "cout << sizeof (long long) << endl;\n",
    "cout << sizeof(short) << endl;"
   ]
  },
  {
   "cell_type": "markdown",
   "metadata": {},
   "source": [
    "### How long does it take to run largest function? What does the running time depend on?\n",
    "\n",
    "- we often express the time $T$ to run the algorithm as a function of $n$, written as $T(n)$\n",
    "- if $c$ is the amount of time required to compare two integers in function largest\n",
    "    - the total time to run **largest()** is therefore approximately $cn$\n",
    "\n",
    "- largest function has running time expressed as: $T(n) = cn$\n",
    "    - the equation describes the growth rate of the running time of the largest-value sequential search algorithm"
   ]
  },
  {
   "cell_type": "markdown",
   "metadata": {},
   "source": [
    "#### Example 2"
   ]
  },
  {
   "cell_type": "code",
   "execution_count": null,
   "metadata": {},
   "outputs": [],
   "source": [
    "// Example 2\n",
    "// copy the first element from nums vector to the first position of nums1 vector\n",
    "vector<int> nums1(10);\n",
    "nums1[0] = nums[0];"
   ]
  },
  {
   "cell_type": "markdown",
   "metadata": {},
   "source": [
    "### How long does it take to copy one element from a vector to another vector?\n",
    "- if $c1$ is the amount of time necessary to copy an integer, the time to coy the value from the first position of the vector is always $c1$ no matter how big the vector is\n",
    "- the equation for this copy algorithm is: $T(n) = c1$\n",
    "    - this is called a **constant running time**"
   ]
  },
  {
   "cell_type": "markdown",
   "metadata": {},
   "source": [
    "#### Example 3"
   ]
  },
  {
   "cell_type": "code",
   "execution_count": null,
   "metadata": {},
   "outputs": [],
   "source": [
    "// Example 3\n",
    "size_t n = 100;\n",
    "int sum = 0;\n",
    "for (int i=1; i<=n; i++) {\n",
    "    for (int j=1; j<=n; j++) {\n",
    "        sum++; //how many times does this operation execute?\n",
    "    }\n",
    "}"
   ]
  },
  {
   "cell_type": "markdown",
   "metadata": {},
   "source": [
    "### What is the running time of the above code fragment?\n",
    "- if $c2$ is the total cost of init, comparisons and updates, the total number of increment operations is $n^2$\n",
    "- the running time equation for the code snippet is $T(n) = c2n^2$"
   ]
  },
  {
   "cell_type": "markdown",
   "metadata": {},
   "source": [
    "<a id=\"growthrates\"></a>"
   ]
  },
  {
   "cell_type": "markdown",
   "metadata": {},
   "source": [
    "## Growth Rates"
   ]
  },
  {
   "cell_type": "markdown",
   "metadata": {},
   "source": [
    "- growth rate of an algorithm is the rate at which the cost of the algorithm grows as the size of its input grows\n",
    "- the following figure shows the growth rate of varieties of representative functions\n",
    "<img src=\"./resources/growthrates.gif\">"
   ]
  },
  {
   "cell_type": "markdown",
   "metadata": {},
   "source": [
    "### costs for representative growth rates"
   ]
  },
  {
   "cell_type": "markdown",
   "metadata": {},
   "source": [
    "| $n$ | $log log n$ | $log n$ | $n$ | $n log n$ | $n^2$ | $n^3$ | $2^n$ |\n",
    "| --- | --- | --- | --- | --- | --- | --- | --- |\n",
    "| $16$ | $2$ | $4$ | $2^4$ | $ 4\\times 2^4= 2^6$ | $2^8$ | $2^{12}$ | $2^{16}$ |\n",
    "| $256$ | $3$ | $8$ | $2^8$ | $8\\times 2^8 = 2^{11}$ | $2^{16}$ | $2^{24}$ | $2^{256}$ |\n",
    "| $1024$ |  $\\approx 3.3$ | 10 | $2^{10}$ | $𝟣𝟢 \\times 𝟤^{𝟣𝟢}\\approx 𝟤^{𝟣𝟥}$ | $2^{20}$ | $2^{30}$ | $2^{1024}$ |\n",
    "| $64K$ | $4$ | $16$ | $2^{16}$ | $16 \\times 2^{16} = 2^{20}$ | $2^{32}$ | $2^{48}$ | $2^{64K} $ |\n",
    "| $1M$ | $\\approx 4.3$ | $20$ | $2^{20}$ | $20 \\times 2^{20} \\approx 2^{24}$ | $2^{40}$ | $2^{60}$ | $2^{1M}$ | \n",
    "| $1G$ | $\\approx 4.9$ | $30$ | $2^{30}$ | $30 \\times 2^{30} \\approx 2^{35}$ | $2^{60}$ | $2^{90}$ | $2^{1G}$ |"
   ]
  },
  {
   "cell_type": "markdown",
   "metadata": {},
   "source": [
    "<a id=\"cases\"></a>"
   ]
  },
  {
   "cell_type": "markdown",
   "metadata": {},
   "source": [
    "## Best, Worst, and Average Cases"
   ]
  },
  {
   "cell_type": "markdown",
   "metadata": {},
   "source": [
    "- some problems do not have best, worst, or average cases as you'd have to account for the whole input data\n",
    "    - e.g., finding sum of integer values stored in a vector\n",
    "    - factorial of $n$ or $n!$\n",
    "    - $3! = 3\\times2\\times1 = 6$\n",
    "    - $10! = 10\\times9\\times...\\times1 = 3,628,800$\n",
    "- some problems do have best, worst, or average cases based on the input data\n",
    "    - e.g., searching key **K** in a given vector\n",
    "        - **Best case:** a single comparison is performed\n",
    "        - **Worst case:** n comparisons are performed\n",
    "        - **Average case:** $\\frac{n+1}{2}$ comparisons are performed\n",
    "        <img src=\"./resources/seqSearchBestWorstAvg.png\">"
   ]
  },
  {
   "cell_type": "markdown",
   "metadata": {},
   "source": [
    "<a id=\"whichone\"><a/>"
   ]
  },
  {
   "cell_type": "markdown",
   "metadata": {},
   "source": [
    "## Which one to study?"
   ]
  },
  {
   "cell_type": "markdown",
   "metadata": {},
   "source": [
    "- when analyzing an algorithm, should we study the best, worst, or average case?\n",
    "- normally, we're not interested in the best case (too optimistic)\n",
    "    - can be useful when the best case has high probability of occurring\n",
    "    - e.g., Shellsort and Quicksort algorithms both can take advantage of the best-case running time of Insertion Sort to become more efficient\n",
    "- worst case analysis has the advantage that you know for certain that the algorithm must perform at least that well\n",
    "    - esp. important for real-time applications, such as for the computers that monitor an air traffic control system\n",
    "- some applications, we wish to aggregate the cost of running the program many times on many different inputs\n",
    "    - often, we prefer to know the average-case running time if possible\n",
    "    - not always possible, e.g., the assumption that the sequential search algorithm on average examines half of the array values is only true if the element with key K is equally likely to appear in any position in the array!\n",
    "- the characteristics of data distribution have a significant effect on search algorithms, such as those based on *hashing* and search trees such as the *Binary Search Tree (BST)* "
   ]
  },
  {
   "cell_type": "markdown",
   "metadata": {},
   "source": [
    "<a id=\"asymptotic\"></a>"
   ]
  },
  {
   "cell_type": "markdown",
   "metadata": {},
   "source": [
    "## Asymptotic Analysis"
   ]
  },
  {
   "cell_type": "markdown",
   "metadata": {},
   "source": [
    "- the following graph shows the growth rates for six equations\n",
    "- the horizontal axis represents input size\n",
    "- the vertical axis can represent time, space, or any other measure of cost\n",
    "<img src=\"./resources/growthRates.png\">"
   ]
  },
  {
   "cell_type": "markdown",
   "metadata": {},
   "source": [
    "- the following graph shows in detail the lower-left portion of the above graph\n",
    "<img src=\"./resources/growthRatesZoom.png\">\n",
    "\n",
    "### observations from the graphs\n",
    "- looking at $2n^2$, $20n$ and $10n$ curves, the larger constants 10 and 20 in linear functions don't matter much\n",
    "- generally constants simply shifts *where* the two curves cross, not *whether* the two curves cross\n",
    "- the time curves for two algorithms with different growth rates still cross, regardless of their running-time equation constants\n",
    "- for this reason, we usually ignore the constants when we want an estimate of the growth rate for the running time or other requirements of an algorithm\n",
    "- simplifies the analysis and keeps us thinking about the most important aspect: the growth rate (asymptotic algorithm analysis)\n",
    "\n",
    "### Asymptotic Analysis\n",
    "- refers to the study of an algorithm as the input size \"gets big\" or grows to \t&infin;\n",
    "- ignoring constants may not be reasonable when comparing algorithms meant to run on small values of n\n",
    "    - provides a simplified model of the running time or other resource needs of an algorithm"
   ]
  },
  {
   "cell_type": "markdown",
   "metadata": {},
   "source": [
    "<a id=\"bigo\"></a>"
   ]
  },
  {
   "cell_type": "markdown",
   "metadata": {},
   "source": [
    "## Upper Bound - Big-Oh O\n",
    "- several terms are used to describe the running-time equation for an algorithm\n",
    "- upper bound indicates the upper or highest growth rate that the algorithm can have\n",
    "- use big-Oh notation to represent upper bounds\n",
    "    - e.g., if $n^2$ grows as fast as $T(n)$ (the running time of our algorithm) for the worst-case input, we would say the algorithm is \"in $O(n^2)$ in the worst case\"\n",
    "- precise definition of upper bound:\n",
    "    - for $T(n)$ a non-negatively valued function, $T(n)$ is in set $O(f(n))$ if there exist two positive constants $c$ and $n_0$ such that $T(n) \\leq c\\times f(n)$ for all $n > n_0$\n",
    "    - $n_0$ is the smallest value of $n$ for which the claim of an upper bound holds true\n",
    "    \n",
    "#### Example 1\n",
    "- sequential search big Oh\n",
    "    - average case $T(n) = c_s\\times \\frac n 2$\n",
    "    - for all values of $n > 1, c_s \\times \\frac n 2 \\leq c_s \\times n$\n",
    "    - therefore, by the definition, $T(n)$ is in $O(n)$ for $n_0 = 1$ and $c = c_s$\n",
    "    \n",
    "#### Example 2\n",
    "- for a particular algorithm, $T(n) = c_1\\times n^2 + c_2 \\times n$ in the average case where $c_1, c_2 > 0$. Then,\n",
    "    - $c_1 \\times n^2 + c_2 \\times n \\leq c_1\\times n^2 + c_2\\times n^2 \\leq (c_1 + c_2)n^2$ for all $n>1$\n",
    "    - so, $T(n) \\leq c \\times n^2$ for $c = c_1 + c_2$, and $n_0 = 1$\n",
    "    - therefore, $T(n)$ is in $O(n^2)$ by the definition of upper bounds\n",
    "\n",
    "#### Example 3\n",
    "- copying a value from the position of an array into a variable takes constant time regardless of the size of the array\n",
    "- $T(n) = c$ (for the best, worst, and average cases)\n",
    "    - $T(n)$ is in $O(c)$ or $O(1)$\n",
    "    \n",
    "#### Common Misunderstandings\n",
    "- \"What is the growth rate of this algorithm?\"\n",
    "    - Ask, when? Best case? Average case? Worst case?\n",
    "    - \"this algorithm has an upper bound to its growth rate of $n^2$ in the worst case\"\n",
    "- since, sequential search is in $O(n)$, it is also true to say that sequential search is in $O(n^2)$\n",
    "    - we define the running time of an algorithm with the tightest (lowest) possible upper bound\n",
    "    - $O(n)$ is in $O(n^2)$ but not vice versa\n",
    "- confusing worst case with upper bound\n",
    "    - upper bound refers to growth rate\n",
    "- worst case refers to the worst input from among the choices for possible inputs of given size"
   ]
  },
  {
   "cell_type": "markdown",
   "metadata": {},
   "source": [
    "<a id=\"rules\"></a>"
   ]
  },
  {
   "cell_type": "markdown",
   "metadata": {},
   "source": [
    "### Simplifying Rules\n",
    "\n",
    "1. if $f(n)$ is in $O(g(n))$ and $g(n)$ is in $O(h(n))$, then $f(n)$ is in $O(h(n))$\n",
    "    - if some function $g(n)$ is an upper bound for your cost function, then any upper bound for $g(n)$ is also an upper bound for your cost function\n",
    "\n",
    "2. if $f(n)$ is in $O(k\\times g(n))$ for any constant $k>0$, then $f(n)$ is in $O(g(n))$\n",
    "    - you can ignore ignore any multiplicative constants in your equations when using big-Oh notation\n",
    "3. if $f_1(n)$ is in $O(g_1(n))$ and $f_2(n)$ is in $O(g_2(n))$, then $f_1(n)+f_2(n)$ is in $O(max(g_1(n),g_2(n)))$\n",
    "    - given two parts of program run in sequence (whether two statements or two sections of code), you need to consider only the more expensive part\n",
    "4. if $f_1(n)$ is in $O(g_1(n))$ and $f_2(n)$ is in $O(g_2(n))$, then $f_1(n) \\times f_2(n)$ is in $O(g_1(n)\\times g_2(n))$\n",
    "    - used to analyze simple loops in programs\n",
    "    - if some action is repeated some number of times, and each repetition has the same cost, then the total cost is the cost of the action multiplied by the number of times that the action takes place "
   ]
  },
  {
   "cell_type": "markdown",
   "metadata": {
    "solution": "hidden",
    "solution2": "hidden",
    "solution2_first": true
   },
   "source": [
    "### Exercise\n",
    "Which of the following is the best upper bound for a growth rate of $5n+3$?\n",
    "1. $O(n)$\n",
    "2. $O(n log n)$\n",
    "3. $O(log n)$\n",
    "4. $O(n^2)$\n",
    "5. $O(1)$"
   ]
  },
  {
   "cell_type": "markdown",
   "metadata": {},
   "source": [
    "<a id=\"bigomega\"></a>"
   ]
  },
  {
   "cell_type": "markdown",
   "metadata": {
    "solution": "hidden",
    "solution2": "hidden",
    "solution2_first": true,
    "solution_first": true
   },
   "source": [
    "Ans: $O(n)$"
   ]
  },
  {
   "cell_type": "markdown",
   "metadata": {},
   "source": [
    "<a id=\"bigtheta\"></a>"
   ]
  },
  {
   "cell_type": "markdown",
   "metadata": {},
   "source": [
    "## Analyzing Algorithms Examples"
   ]
  },
  {
   "cell_type": "markdown",
   "metadata": {},
   "source": [
    "### Example 1\n",
    "#### Problem: find sum of first n positive numbers\n",
    "#### algorithm 1:\n",
    "\n",
    "```c++\n",
    "sum = 0; // O(1)\n",
    "for (i = 1; i <=n; i++ ) // O(1 + c1.n + c2.n)\n",
    "    sum += i; // O(c3.n)\n",
    "```\n",
    "- by using simplifying rules 2, 3 and 4; algorithm 1 takes $O(n)$\n",
    "\n",
    "#### algorithm 2:\n",
    "```c++\n",
    "sum = n*(n+1)/2; // O(1)\n",
    "```\n",
    "- algorithm 2 clearly takes constant time $O(1)$\n",
    "- see kattis problem: https://open.kattis.com/problems/sumkindofproblem"
   ]
  },
  {
   "cell_type": "markdown",
   "metadata": {},
   "source": [
    "### Example 2\n",
    "```c++\n",
    "sum = 0; //c1\n",
    "for (j=1; j<=n; j++)     // First for loop\n",
    "   for (i=1; i<=j; i++)  //   is a nested loop\n",
    "      sum++; // c3.(n.(n+1)/2)\n",
    "\n",
    "for (k=0; k<n; k++)      // Second for loop\n",
    "   A[k] = k; //c2.n\n",
    "```\n",
    "- sum++ is executed $\\sum_{i=1}^{n} i= \\frac {n(n+1)} 2$ times which is in $O(n^2)$\n",
    "- second for loop is executed $n$ times which is in $O(n)$\n",
    "- by simplifying rule 3, $O(c_1 + c_2n + c_3n^2)$ is simply $O(n^2)$"
   ]
  },
  {
   "cell_type": "markdown",
   "metadata": {},
   "source": [
    "### Example 3\n",
    "```c++\n",
    "sum1 = 0;\n",
    "for (i=1; i<=n; i++)     // First double loop\n",
    "   for (j=1; j<=n; j++)  //   do n times\n",
    "      sum1++;\n",
    "\n",
    "sum2 = 0;\n",
    "for (i=1; i<=n; i++)     // Second double loop\n",
    "   for (j=1; j<=i; j++)  //   do i times\n",
    "      sum2++;\n",
    "```\n",
    "- in first double loop, inner loop executes $n$ times and outer loop executes n times\n",
    "    - so sum1++ is executed $n^2$ times\n",
    "- in the second double loop, the outer loop executes $n$ times but inner outer loop executes approximately $\\frac 1 2 n^2$ times\n",
    "- since both loop costs $O(n^2)$, the overall cost of the code snippet is $O(n^2)$, though the second requires about half the time of the first"
   ]
  },
  {
   "cell_type": "markdown",
   "metadata": {},
   "source": [
    "### Example 4\n",
    "- not all doubly nested for loops are in $O(n^2)$\n",
    "\n",
    "```c++\n",
    "sum1 = 0;\n",
    "for (k=1; k<=n; k*=2)    // Do log n times\n",
    "   for (j=1; j<=n; j++)  // Do n times\n",
    "      sum1++;\n",
    "\n",
    "sum2 = 0;\n",
    "for (k=n; k>=1; k/=2)    // Do log n times\n",
    "   for (j=k; j>=1; j--)  // Do k times\n",
    "      sum2++;\n",
    "```\n",
    "- let's assume that $n$ is power of $2$\n",
    "- in first nested loop, the outer loop executes $logn+1$ times because on each iteration $k$ is doubled until it reaches $n$\n",
    "    - the inner loop executes $n$ times, the cost can be expressed as: $\\sum_{i=0}^{log n} n = n log n$\n",
    "    - so, the cost for this double loop is $O(nlogn)$\n",
    "- in the second nested loop, the outer loop executes $logn+1$ times because on each iteration $k$ is halved until it reaches $1$\n",
    "    - the inner loop executes has cost $k$ which is halved each time with the cost $O(n)$"
   ]
  },
  {
   "cell_type": "markdown",
   "metadata": {},
   "source": [
    "### Analyzing Cost of Other Control Structures\n",
    "- **while loop:** analyze like a for loop\n",
    "- **if statement:** take greater complexity of then/else clauses\n",
    "- **switch statement:** take complexity of most expensive case\n",
    "- **subroutine call:** complexity of the subroutine"
   ]
  },
  {
   "cell_type": "markdown",
   "metadata": {},
   "source": [
    "### Analyzing Problems: Example\n",
    "1. cost of I/O: $O(n)$\n",
    "- cost of sequential search: $O(n)$\n",
    "- cost of binary search or sorted range: $O(logn)$\n",
    "2. Bubble or Insertion sort: $O(n^2)$\n",
    "3. better sorts (Quicksort, Mergesort, Heapsort, etc.): $O(nlogn)$\n",
    "4. we prove later that sorting is in $O(nlogn)$"
   ]
  },
  {
   "cell_type": "markdown",
   "metadata": {},
   "source": [
    "### Space/Time Trade-off Principle\n",
    "- One can often reduce time if one is willing to sacrifice space, or vice versa\n",
    "    - encoding or packing information\n",
    "        - Boolean flags\n",
    "    - Table lookup (memoization)\n",
    "        - factorials"
   ]
  },
  {
   "cell_type": "code",
   "execution_count": null,
   "metadata": {},
   "outputs": [],
   "source": []
  }
 ],
 "metadata": {
  "kernelspec": {
   "display_name": "C++14",
   "language": "C++14",
   "name": "xcpp14"
  },
  "language_info": {
   "codemirror_mode": "text/x-c++src",
   "file_extension": ".cpp",
   "mimetype": "text/x-c++src",
   "name": "c++",
   "version": "14"
  }
 },
 "nbformat": 4,
 "nbformat_minor": 2
}
