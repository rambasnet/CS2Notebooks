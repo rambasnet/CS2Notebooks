{
 "cells": [
  {
   "cell_type": "markdown",
   "metadata": {},
   "source": [
    "# Function Overloading and Templates\n",
    "- http://www.cplusplus.com/doc/oldtutorial/templates/\n",
    "\n",
    "## Table of Contents\n",
    "- [Function overloading](#overloading)\n",
    "- [Function templates](#templates)"
   ]
  },
  {
   "cell_type": "markdown",
   "metadata": {},
   "source": [
    "## Headers and helper functions\n",
    "- run include headers and helper function cells if Kernel crashes or is restarted"
   ]
  },
  {
   "cell_type": "code",
   "execution_count": 11,
   "metadata": {},
   "outputs": [],
   "source": [
    "// headers and namespace required in this notebook demo codes\n",
    "#include <iostream>\n",
    "#include <string>\n",
    "#include <sstream> //stringstream type\n",
    "#include <typeinfo> //typeid operator\n",
    "\n",
    "using namespace std;"
   ]
  },
  {
   "cell_type": "markdown",
   "metadata": {},
   "source": [
    "<a id=\"overloading\"></a>"
   ]
  },
  {
   "cell_type": "markdown",
   "metadata": {},
   "source": [
    "## Function overloading\n",
    "- a function works only on the types, it is defined to work on!\n",
    "- we can define the same function name several times to work on different types; called function overloading\n",
    "- same function name can be redefined as long as the type and number of parameters differ from each other"
   ]
  },
  {
   "cell_type": "code",
   "execution_count": 2,
   "metadata": {},
   "outputs": [],
   "source": [
    "int add(int n1, int n2) {\n",
    "    int sum = n1 + n2;\n",
    "    return sum;\n",
    "}"
   ]
  },
  {
   "cell_type": "code",
   "execution_count": 3,
   "metadata": {},
   "outputs": [
    {
     "name": "stdout",
     "output_type": "stream",
     "text": [
      "110\n"
     ]
    }
   ],
   "source": [
    "cout << add(10, 100) << endl;"
   ]
  },
  {
   "cell_type": "code",
   "execution_count": 4,
   "metadata": {},
   "outputs": [
    {
     "name": "stderr",
     "output_type": "stream",
     "text": [
      "\u001b[1minput_line_12:5:13: \u001b[0m\u001b[0;1;35mwarning: \u001b[0m\u001b[1mimplicit conversion from 'float' to 'int' changes value from 10.5 to 10 [-Wliteral-conversion]\u001b[0m\n",
      "cout << add(10.5f, 100.99f) << endl;\n",
      "\u001b[0;1;32m        ~~~ ^~~~~\n",
      "\u001b[0m\u001b[1minput_line_12:5:20: \u001b[0m\u001b[0;1;35mwarning: \u001b[0m\u001b[1mimplicit conversion from 'float' to 'int' changes value from 100.99 to 100\n",
      "      [-Wliteral-conversion]\u001b[0m\n",
      "cout << add(10.5f, 100.99f) << endl;\n",
      "\u001b[0;1;32m        ~~~        ^~~~~~~\n",
      "\u001b[0m\u001b[1minput_line_12:6:13: \u001b[0m\u001b[0;1;35mwarning: \u001b[0m\u001b[1mimplicit conversion from 'double' to 'int' changes value from 100.2 to 100\n",
      "      [-Wliteral-conversion]\u001b[0m\n",
      "cout << add(100.2, 200.8) << endl;\n",
      "\u001b[0;1;32m        ~~~ ^~~~~\n",
      "\u001b[0m\u001b[1minput_line_12:6:20: \u001b[0m\u001b[0;1;35mwarning: \u001b[0m\u001b[1mimplicit conversion from 'double' to 'int' changes value from 200.8 to 200\n",
      "      [-Wliteral-conversion]\u001b[0m\n",
      "cout << add(100.2, 200.8) << endl;\n",
      "\u001b[0;1;32m        ~~~        ^~~~~\n",
      "\u001b[0m"
     ]
    },
    {
     "name": "stdout",
     "output_type": "stream",
     "text": [
      "110\n",
      "300\n"
     ]
    }
   ],
   "source": [
    "// what about float, and double?\n",
    "// by default decimal numbers are stored as double;\n",
    "// so, add f at the end to tell compiler to treat it as a float\n",
    "cout << add(10.5f, 100.99f) << endl;\n",
    "cout << add(100.2, 200.8) << endl;"
   ]
  },
  {
   "cell_type": "code",
   "execution_count": 5,
   "metadata": {},
   "outputs": [
    {
     "name": "stderr",
     "output_type": "stream",
     "text": [
      "\u001b[1minput_line_13:2:10: \u001b[0m\u001b[0;1;31merror: \u001b[0m\u001b[1mno matching function for call to 'add'\u001b[0m\n",
      " cout << add(string(\"hello\"), string(\"world!\"));\n",
      "\u001b[0;1;32m         ^~~\n",
      "\u001b[0m\u001b[1minput_line_10:1:5: \u001b[0m\u001b[0;1;30mnote: \u001b[0mcandidate function not viable: no known conversion from 'std::__1::string' (aka\n",
      "      'basic_string<char, char_traits<char>, allocator<char> >') to 'int' for 1st argument\u001b[0m\n",
      "int add(int n1, int n2) {\n",
      "\u001b[0;1;32m    ^\n",
      "\u001b[0m"
     ]
    },
    {
     "ename": "Interpreter Error",
     "evalue": "",
     "output_type": "error",
     "traceback": [
      "Interpreter Error: "
     ]
    }
   ],
   "source": [
    "cout << add(string(\"hello\"), string(\"world!\"));"
   ]
  },
  {
   "cell_type": "code",
   "execution_count": 8,
   "metadata": {},
   "outputs": [],
   "source": [
    "// overload add function to work on float type\n",
    "float add(float n1, float n2) {\n",
    "    float s = n1 + n2;\n",
    "    return s;\n",
    "}"
   ]
  },
  {
   "cell_type": "code",
   "execution_count": 9,
   "metadata": {},
   "outputs": [
    {
     "name": "stdout",
     "output_type": "stream",
     "text": [
      "111.49\n"
     ]
    }
   ],
   "source": [
    "cout << add(10.5f, 100.99f) << endl;"
   ]
  },
  {
   "cell_type": "code",
   "execution_count": 11,
   "metadata": {},
   "outputs": [],
   "source": [
    "// overload add function to work on double type\n",
    "double add(double n1, double n2) {\n",
    "    double s = n1 + n2;\n",
    "    return s;\n",
    "}"
   ]
  },
  {
   "cell_type": "code",
   "execution_count": 12,
   "metadata": {},
   "outputs": [
    {
     "name": "stdout",
     "output_type": "stream",
     "text": [
      "301\n"
     ]
    }
   ],
   "source": [
    "cout << add(100.2, 200.8) << endl;"
   ]
  },
  {
   "cell_type": "code",
   "execution_count": 13,
   "metadata": {},
   "outputs": [],
   "source": [
    "// overload add function to work on string type\n",
    "string add(string s1, string s2) {\n",
    "    string s = s1 + s2;\n",
    "    return s;\n",
    "}"
   ]
  },
  {
   "cell_type": "code",
   "execution_count": 15,
   "metadata": {},
   "outputs": [
    {
     "name": "stdout",
     "output_type": "stream",
     "text": [
      "helloworld!"
     ]
    }
   ],
   "source": [
    "cout << add(string(\"hello\"), string(\"world!\"));"
   ]
  },
  {
   "cell_type": "code",
   "execution_count": 9,
   "metadata": {},
   "outputs": [],
   "source": [
    "// overload add function to work on char types\n",
    "string add(char c1, char c2) {\n",
    "    string s = string(1, c1) + string(1, c2);\n",
    "    return s;\n",
    "}"
   ]
  },
  {
   "cell_type": "code",
   "execution_count": 10,
   "metadata": {},
   "outputs": [
    {
     "name": "stdout",
     "output_type": "stream",
     "text": [
      "AB\n"
     ]
    }
   ],
   "source": [
    "cout << add('A', 'B') << endl;"
   ]
  },
  {
   "cell_type": "code",
   "execution_count": 14,
   "metadata": {},
   "outputs": [],
   "source": [
    "// another implementation to overload add function to work on char types\n",
    "string addChar(char c1, char c2) {\n",
    "    stringstream ss;\n",
    "    ss << c1 << c2;\n",
    "    string s;\n",
    "    ss >> s;\n",
    "    return s;\n",
    "}"
   ]
  },
  {
   "cell_type": "code",
   "execution_count": 15,
   "metadata": {},
   "outputs": [
    {
     "name": "stdout",
     "output_type": "stream",
     "text": [
      "AB\n"
     ]
    }
   ],
   "source": [
    "cout << addChar('A', 'B') << endl;"
   ]
  },
  {
   "cell_type": "markdown",
   "metadata": {},
   "source": [
    "<a id=\"templates\"></a>"
   ]
  },
  {
   "cell_type": "markdown",
   "metadata": {},
   "source": [
    "## Function templates\n",
    "- special function that can operate with generic types\n",
    "- allows us to create a single function that can be adapted to more than one type or class without repeating entire code for each type as in function overloading\n",
    "- template parameters allow us to pass parameters types to functions\n",
    "- syntax:\n",
    "```c++\n",
    "template <class T1, class T2, ...>\n",
    "T1 functionName(T1 para1, T2 para2, ...) {\n",
    "    // function body\n",
    "}\n",
    "```"
   ]
  },
  {
   "cell_type": "code",
   "execution_count": 2,
   "metadata": {},
   "outputs": [],
   "source": [
    "template <class T>\n",
    "T addition(T para1, T para2) {\n",
    "    T result = para1 + para2;\n",
    "    return result;\n",
    "}"
   ]
  },
  {
   "cell_type": "code",
   "execution_count": 3,
   "metadata": {},
   "outputs": [
    {
     "name": "stdout",
     "output_type": "stream",
     "text": [
      "30\n",
      "31\n",
      "31\n",
      "hi there!"
     ]
    }
   ],
   "source": [
    "// implicit: types are automatically inferred based on the types of arguments\n",
    "cout << addition(10, 20) << endl;\n",
    "cout << addition(10.5f, 20.5f) << endl;\n",
    "cout << addition(10.5, 20.5) << endl;\n",
    "cout << addition(string(\"hi \"), string(\"there!\"));"
   ]
  },
  {
   "cell_type": "code",
   "execution_count": 4,
   "metadata": {},
   "outputs": [
    {
     "name": "stdout",
     "output_type": "stream",
     "text": [
      "30\n",
      "31\n",
      "301\n",
      "hi there!"
     ]
    }
   ],
   "source": [
    "// explicit: types are explicitly passed\n",
    "cout << addition<int>(10, 20) << endl;\n",
    "cout << addition<float>(10.5, 20.5) << endl; // notice no f at the end of numbers\n",
    "cout << addition<double>(100.5, 200.5) << endl; \n",
    "cout << addition<string>(string(\"hi \"), string(\"there!\"));"
   ]
  },
  {
   "cell_type": "code",
   "execution_count": 10,
   "metadata": {},
   "outputs": [
    {
     "name": "stderr",
     "output_type": "stream",
     "text": [
      "\u001b[1minput_line_20:3:9: \u001b[0m\u001b[0;1;31merror: \u001b[0m\u001b[1mno template named 'addition'; did you mean 'addition1'?\u001b[0m\n",
      "cout << addition<string>('A', 'B') << endl;\n",
      "\u001b[0;1;32m        ^~~~~~~~\n",
      "\u001b[0m\u001b[0;32m        addition1\n",
      "\u001b[0m\u001b[1minput_line_10:2:9: \u001b[0m\u001b[0;1;30mnote: \u001b[0m'addition1' declared here\u001b[0m\n",
      "returnT addition1(T para1, T para2) {\n",
      "\u001b[0;1;32m        ^\n",
      "\u001b[0m\u001b[1minput_line_20:3:9: \u001b[0m\u001b[0;1;31merror: \u001b[0m\u001b[1mno matching function for call to 'addition1'\u001b[0m\n",
      "cout << addition<string>('A', 'B') << endl;\n",
      "\u001b[0;1;32m        ^~~~~~~~~~~~~~~~\n",
      "\u001b[0m\u001b[1minput_line_10:2:9: \u001b[0m\u001b[0;1;30mnote: \u001b[0mcandidate template ignored: couldn't infer template argument 'returnT'\u001b[0m\n",
      "returnT addition1(T para1, T para2) {\n",
      "\u001b[0;1;32m        ^\n",
      "\u001b[0m"
     ]
    },
    {
     "ename": "Interpreter Error",
     "evalue": "",
     "output_type": "error",
     "traceback": [
      "Interpreter Error: "
     ]
    }
   ],
   "source": [
    "// expected output AB, but get error!\n",
    "cout << addition<string>('A', 'B') << endl;"
   ]
  },
  {
   "cell_type": "code",
   "execution_count": 7,
   "metadata": {},
   "outputs": [
    {
     "name": "stdout",
     "output_type": "stream",
     "text": [
      "c\n",
      "f\n",
      "d\n",
      "NSt3__112basic_stringIcNS_11char_traitsIcEENS_9allocatorIcEEEE\n",
      "i\n"
     ]
    }
   ],
   "source": [
    "// typeid operator found in typeinfo header comes to rescue!!\n",
    "//https://en.cppreference.com/w/cpp/language/typeid\n",
    "// if we can find type of generic type T, we can write more generic template function\n",
    "// that works for addition of char type as well!\n",
    "cout << typeid(char).name() << endl;\n",
    "cout << typeid(float).name() << endl;\n",
    "cout << typeid(double).name() << endl;\n",
    "cout << typeid(string).name() << endl;\n",
    "cout << typeid(int).name() << endl;"
   ]
  },
  {
   "cell_type": "code",
   "execution_count": 2,
   "metadata": {},
   "outputs": [],
   "source": [
    "template <class T, class returnT>\n",
    "returnT addition1(T para1, T para2) {\n",
    "    returnT result;\n",
    "    stringstream ss;\n",
    "    if (typeid(T).name() == typeid(char).name()) {\n",
    "        ss << para1 << para2;\n",
    "        ss >> result;\n",
    "    }\n",
    "    else\n",
    "        result = para1 + para2;\n",
    "    return result;\n",
    "}"
   ]
  },
  {
   "cell_type": "code",
   "execution_count": 4,
   "metadata": {},
   "outputs": [
    {
     "name": "stdout",
     "output_type": "stream",
     "text": [
      "30\n",
      "31\n",
      "301\n",
      "hi there!"
     ]
    }
   ],
   "source": [
    "// may help in overflow situations! addition of two large ints could overflow!!\n",
    "cout << addition1<int, long long>(10, 20) << endl;\n",
    "cout << addition1<float, double>(10.5, 20.5) << endl; // notice no f at the end of numbers\n",
    "cout << addition1<double, long double>(100.5, 200.5) << endl; \n",
    "cout << addition1<string, string>(string(\"hi \"), string(\"there!\"));"
   ]
  },
  {
   "cell_type": "code",
   "execution_count": 9,
   "metadata": {},
   "outputs": [
    {
     "name": "stdout",
     "output_type": "stream",
     "text": [
      "AB\n"
     ]
    }
   ],
   "source": [
    "cout << addition1<char, string>('A', 'B') << endl;"
   ]
  },
  {
   "cell_type": "code",
   "execution_count": null,
   "metadata": {},
   "outputs": [],
   "source": []
  }
 ],
 "metadata": {
  "kernelspec": {
   "display_name": "C++14",
   "language": "C++14",
   "name": "xcpp14"
  },
  "language_info": {
   "codemirror_mode": "text/x-c++src",
   "file_extension": ".cpp",
   "mimetype": "text/x-c++src",
   "name": "c++",
   "version": "14"
  }
 },
 "nbformat": 4,
 "nbformat_minor": 2
}
