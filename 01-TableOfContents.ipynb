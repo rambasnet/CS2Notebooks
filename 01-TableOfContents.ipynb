{
 "cells": [
  {
   "cell_type": "markdown",
   "metadata": {},
   "source": [
    "# CS2: Data Structures & Applications\n",
    "\n",
    "## Table of Contents\n",
    "1. **[Introduction](#intro)**<br>\n",
    "2. **[CS1 Review](./CS1-Review.ipynb)** <br>\n",
    "3. **[Kattis Demos & Automated Testing](https://github.com/rambasnet/kattisdemos)** <br>\n",
    "4. **[Struct](./Struct.ipynb)** <br>\n",
    "5. **[Memory Segments](./MemorySegments.ipynb)** <br>\n",
    "6. **[Static Variables](./StaticVariables.ipynb)** <br>\n",
    "7. **[Function Templates](./FunctionTemplates.ipynb)** <br>\n",
    "8. **[Pointers](./Pointers.ipynb)** <br>\n",
    "9. **[STL Containers and Algorithms Libraries](https://github.com/rambasnet/stl-notebooks)**<br>\n",
    "10. **[Classes - OOP Introduction](./OOP-Intro.ipynb)**<br>\n",
    "11. **[Operator Overloading](./Class-OperatorOverloading.ipynb)**<br>\n",
    "12. **[Class Templates](./ClassTemplates.ipynb)**<br>\n",
    "13. **[Exceptions](./Exceptions.ipynb)**<br>\n",
    "14. **[Recursions](./Recursions.ipynb)**<br>\n",
    "15. **[Array-based Lists](./ArrayList.ipynb)**<br>\n",
    "16. **[Singly Linked Lists](./LinkedLists.ipynb)**<br>\n",
    "17. **[Doubly Linked Lists](./DoublyLinkedLists.ipynb)**<br>\n",
    "18. **[Stacks](./Stacks.ipynb)**<br>\n",
    "19. **[Queues](./Queues.ipynb)**<br>\n",
    "20. **[Algorithm Analysis](./AlgorithmAnalysis.ipynb)**<br>\n",
    "21. **[Search Algorithms](./SearchAlgorithms.ipynb)**<br>"
   ]
  },
  {
   "cell_type": "code",
   "execution_count": null,
   "metadata": {},
   "outputs": [],
   "source": []
  }
 ],
 "metadata": {
  "kernelspec": {
   "display_name": "C++14",
   "language": "C++14",
   "name": "xcpp14"
  },
  "language_info": {
   "codemirror_mode": "text/x-c++src",
   "file_extension": ".cpp",
   "mimetype": "text/x-c++src",
   "name": "c++",
   "version": "14"
  }
 },
 "nbformat": 4,
 "nbformat_minor": 4
}
