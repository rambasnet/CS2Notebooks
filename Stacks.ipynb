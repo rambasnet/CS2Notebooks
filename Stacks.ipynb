{
 "cells": [
  {
   "cell_type": "markdown",
   "metadata": {},
   "source": [
    "# Stacks\n",
    "- https://opendsa-server.cs.vt.edu/ODSA/Books/CS2/html/StackArray.html\n",
    "- https://en.cppreference.com/w/cpp/container/stack\n",
    "\n",
    "\n",
    "## Table of Contents\n",
    "- **[Introduction](#intro)**<br>\n",
    "- **[Array-based Stack](#stack)**<br>\n",
    "- **[Linked Stack](#linked)**<br>"
   ]
  },
  {
   "cell_type": "markdown",
   "metadata": {},
   "source": [
    "<a id=\"intro\">"
   ]
  },
  {
   "cell_type": "markdown",
   "metadata": {},
   "source": [
    "## Introduction\n",
    "- stack is a list-like data structure in which elements may be inserted or removed from only one end\n",
    "    - less flexible than list\n",
    "    - more efficient and easy to implement\n",
    "- **LIFO** (Last-In, First-Out) data structure\n",
    "- many applications require the limited form of insert and remove operations that stacks provide\n",
    "- uses real-world analogy of stacks e.g., stacks of coins, books, boxes, plates, etc.\n",
    "<img src=\"./resources/stacks.png\">\n",
    "\n",
    "### Applications\n",
    "- stack structure is used in memory management for local variables\n",
    "- used to evaluate prefix, postfix and infix expressions\n",
    "- can be used to convert expression in one form to anther\n",
    "- parse syntax in programming language to verify grammar\n",
    "- backtracking in solving games and puzzles\n",
    "- checking for valid parenthesis\n",
    "\n",
    "### Operations\n",
    "- push : insert element at the top of the stack\n",
    "- pop : remove and return element from the top of the stack"
   ]
  },
  {
   "cell_type": "markdown",
   "metadata": {},
   "source": [
    "<a id=\"imp\">"
   ]
  },
  {
   "cell_type": "markdown",
   "metadata": {},
   "source": [
    "## Implementations of Stacks as ADT\n",
    "- Stacks can be implemented using array or linked-list\n",
    "\n",
    "### Array implementation of Stack\n",
    "- array-based stack is as simple as array-based list\n",
    "- below is the array-based stack\n",
    "\n",
    "### Visualization of Array-based Stack\n",
    "https://opendsa-server.cs.vt.edu/ODSA/Books/CS2/html/StackArray.html"
   ]
  },
  {
   "cell_type": "code",
   "execution_count": null,
   "metadata": {},
   "outputs": [],
   "source": [
    "#include <iostream>\n",
    "#include <cassert>\n",
    "\n",
    "using namespace std;"
   ]
  },
  {
   "cell_type": "code",
   "execution_count": null,
   "metadata": {},
   "outputs": [],
   "source": [
    "template<class T>\n",
    "class ArrayStack {\n",
    "  private:\n",
    "    size_t maxSize;\n",
    "    size_t top;\n",
    "    T * stack;\n",
    "  public:\n",
    "    ArrayStack(size_t mSize=100) { //constructor \n",
    "      assert(mSize > 0);\n",
    "      maxSize = mSize;\n",
    "      stack = new T[maxSize];\n",
    "      top = 0;\n",
    "    }\n",
    "    \n",
    "    // clear the stack\n",
    "    void clear() { top = 0; }\n",
    "    \n",
    "    // get the size of the stack\n",
    "    size_t size() { return top; }\n",
    "    \n",
    "    // check if stack is empty\n",
    "    bool empty() { return top == 0; };\n",
    "    \n",
    "    // check if stack is full\n",
    "    bool full() { return top == maxSize; }\n",
    "    \n",
    "    // return the max size\n",
    "    size_t max_size() { return maxSize; }\n",
    "    \n",
    "    //push data on the top of the stack\n",
    "    void push(T value) {\n",
    "        assert(!full());\n",
    "        stack[top++] = value;\n",
    "    }\n",
    "    \n",
    "    // remove and return the element from the top of the stack\n",
    "    T pop() { \n",
    "        assert(!empty());\n",
    "        return stack[--top]; \n",
    "    }\n",
    "    // return the top element\n",
    "    T get_top() {\n",
    "        assert(!empty());\n",
    "        return stack[top-1];\n",
    "    }\n",
    "};"
   ]
  },
  {
   "cell_type": "markdown",
   "metadata": {},
   "source": [
    "## Test ArrayStack Implementation"
   ]
  },
  {
   "cell_type": "code",
   "execution_count": null,
   "metadata": {},
   "outputs": [],
   "source": [
    "ArrayStack<int> iStack;"
   ]
  },
  {
   "cell_type": "code",
   "execution_count": 4,
   "metadata": {},
   "outputs": [
    {
     "name": "stdout",
     "output_type": "stream",
     "text": [
      "size of iStack = 3"
     ]
    }
   ],
   "source": [
    "iStack.push(10);\n",
    "iStack.push(20);\n",
    "iStack.push(30);\n",
    "cout << \"size of iStack = \" << iStack.size();"
   ]
  },
  {
   "cell_type": "code",
   "execution_count": 5,
   "metadata": {},
   "outputs": [
    {
     "name": "stdout",
     "output_type": "stream",
     "text": [
      "top of the stack is: 30\n",
      "now the size = 2\n"
     ]
    }
   ],
   "source": [
    "cout << \"top of the stack is: \" << iStack.pop() << endl;\n",
    "cout << \"now the size = \" << iStack.size() << endl;"
   ]
  },
  {
   "cell_type": "code",
   "execution_count": 6,
   "metadata": {},
   "outputs": [],
   "source": [
    "iStack.push(40);"
   ]
  },
  {
   "cell_type": "code",
   "execution_count": 7,
   "metadata": {},
   "outputs": [
    {
     "name": "stdout",
     "output_type": "stream",
     "text": [
      "40\n",
      "20\n",
      "10\n"
     ]
    }
   ],
   "source": [
    "while(!iStack.empty()) {\n",
    "    cout << iStack.pop() << endl;\n",
    "}"
   ]
  },
  {
   "cell_type": "markdown",
   "metadata": {},
   "source": [
    "<a id=\"linked\">"
   ]
  },
  {
   "cell_type": "markdown",
   "metadata": {},
   "source": [
    "## Linked Stack Implementation\n",
    "- elements are inserted and removed only from the head of the list\n",
    "- header node is not used because no special-cases need to be handled\n",
    "- below is linked stack implementation"
   ]
  },
  {
   "cell_type": "code",
   "execution_count": 1,
   "metadata": {},
   "outputs": [],
   "source": [
    "#include <iostream>\n",
    "#include <cassert>\n",
    "\n",
    "using namespace std;"
   ]
  },
  {
   "cell_type": "code",
   "execution_count": 2,
   "metadata": {},
   "outputs": [],
   "source": [
    "template<class T>\n",
    "struct Node {\n",
    "  T data;\n",
    "  Node<T> * next;\n",
    "};"
   ]
  },
  {
   "cell_type": "code",
   "execution_count": 3,
   "metadata": {},
   "outputs": [],
   "source": [
    "template<class T>\n",
    "class LinkedStack{\n",
    "  private:\n",
    "    size_t nodeCount;\n",
    "    Node<T> * head;\n",
    "  public:\n",
    "    //constructor\n",
    "    LinkedStack() { \n",
    "      nodeCount = 0; \n",
    "      head = nullptr;\n",
    "    }\n",
    "    \n",
    "    // clear the stack\n",
    "    void clear() {\n",
    "        nodeCount = 0;\n",
    "        Node<T> * curr = head;\n",
    "        while ( curr != nullptr ) {\n",
    "            head = head->next;\n",
    "            delete curr;\n",
    "            curr = head;\n",
    "        }\n",
    "    }\n",
    "    \n",
    "    // get the size of the stack\n",
    "    size_t size() { return nodeCount; }\n",
    "    \n",
    "    // check if stack is empty\n",
    "    bool empty() { return nodeCount == 0; };\n",
    "    \n",
    "    //push data on the top of the stack\n",
    "    void push(T value) {\n",
    "        Node<T> * node = new Node<T>;\n",
    "        node->data = value;\n",
    "        node->next = head;\n",
    "        head = node;\n",
    "        nodeCount++;\n",
    "    }\n",
    "    \n",
    "    // remove and return element from top of the stack\n",
    "    T pop() { \n",
    "        assert(!empty());\n",
    "        T data = head->data;\n",
    "        // adjust head pointer and delete head node\n",
    "        Node<T> * curr = head;\n",
    "        head = head->next;\n",
    "        delete curr;\n",
    "        nodeCount--;\n",
    "        return data; \n",
    "    }\n",
    "    \n",
    "    T top() {\n",
    "        assert(!empty());\n",
    "        return head->data;\n",
    "    }\n",
    "};"
   ]
  },
  {
   "cell_type": "markdown",
   "metadata": {},
   "source": [
    "## Test Linked Stack Implementation"
   ]
  },
  {
   "cell_type": "code",
   "execution_count": 4,
   "metadata": {},
   "outputs": [],
   "source": [
    "LinkedStack<int> lStack;"
   ]
  },
  {
   "cell_type": "code",
   "execution_count": 5,
   "metadata": {},
   "outputs": [
    {
     "name": "stdout",
     "output_type": "stream",
     "text": [
      "size of lStack = 3\n"
     ]
    }
   ],
   "source": [
    "lStack.push(10);\n",
    "lStack.push(20);\n",
    "lStack.push(30);\n",
    "cout << \"size of lStack = \" << lStack.size() << endl;"
   ]
  },
  {
   "cell_type": "code",
   "execution_count": 6,
   "metadata": {},
   "outputs": [
    {
     "name": "stdout",
     "output_type": "stream",
     "text": [
      "top element = 30\n",
      "now the size = 2\n"
     ]
    }
   ],
   "source": [
    "cout << \"top element = \" << lStack.pop() << endl;\n",
    "cout << \"now the size = \" << lStack.size() << endl;"
   ]
  },
  {
   "cell_type": "code",
   "execution_count": 7,
   "metadata": {},
   "outputs": [
    {
     "name": "stdout",
     "output_type": "stream",
     "text": [
      "is lStack empty? false"
     ]
    }
   ],
   "source": [
    "cout << boolalpha;\n",
    "cout << \"is lStack empty? \" << lStack.empty();"
   ]
  },
  {
   "cell_type": "code",
   "execution_count": 8,
   "metadata": {},
   "outputs": [
    {
     "name": "stdout",
     "output_type": "stream",
     "text": [
      "20 10 "
     ]
    }
   ],
   "source": [
    "while(!lStack.empty()) {\n",
    "    cout << lStack.top() << \" \";\n",
    "    lStack.pop();\n",
    "}"
   ]
  },
  {
   "cell_type": "markdown",
   "metadata": {},
   "source": [
    "## Exercises\n",
    "1. Backspace problem: https://open.kattis.com/problems/backspace\n",
    "- Game of throwns: https://open.kattis.com/problems/throwns\n",
    "- Even Up Solitaire: https://open.kattis.com/problems/evenup\n",
    "- Working at the Restaurant: https://open.kattis.com/problems/restaurant\n",
    "- Pairing Socks: https://open.kattis.com/problems/pairingsocks\n",
    "- Find stack-based problems in Kattis: https://cpbook.net/methodstosolve search for stack"
   ]
  },
  {
   "cell_type": "code",
   "execution_count": null,
   "metadata": {},
   "outputs": [],
   "source": []
  }
 ],
 "metadata": {
  "kernelspec": {
   "display_name": "C++14",
   "language": "C++14",
   "name": "xcpp14"
  },
  "language_info": {
   "codemirror_mode": "text/x-c++src",
   "file_extension": ".cpp",
   "mimetype": "text/x-c++src",
   "name": "c++",
   "version": "14"
  }
 },
 "nbformat": 4,
 "nbformat_minor": 2
}
