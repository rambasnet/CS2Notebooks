{
 "cells": [
  {
   "cell_type": "markdown",
   "metadata": {},
   "source": [
    "# Class Templates\n",
    "\n",
    "## Table of Contents\n",
    "- **[Class Templates](#intro)** <br>"
   ]
  },
  {
   "cell_type": "markdown",
   "metadata": {},
   "source": [
    "## header includes used in this notebook"
   ]
  },
  {
   "cell_type": "code",
   "execution_count": 1,
   "metadata": {},
   "outputs": [],
   "source": [
    "#include <iostream>\n",
    "#include <string>\n",
    "\n",
    "using namespace std;"
   ]
  },
  {
   "cell_type": "markdown",
   "metadata": {},
   "source": [
    "<a id=\"intro\"></a>"
   ]
  },
  {
   "cell_type": "markdown",
   "metadata": {},
   "source": [
    "## Class Templates\n",
    "- just like function templates, we can also create class templates\n",
    "    - class templates allow to generalize data types of class members\n",
    "- class templates let us define a different implementation for a template when a specific type is passed as template argument (template specialization)\n",
    "- e.g., Rectangle class below only works on length and width values of different types!"
   ]
  },
  {
   "cell_type": "code",
   "execution_count": 2,
   "metadata": {},
   "outputs": [],
   "source": [
    "// Class Templates\n",
    "// for template class, class interface and definition must be in \n",
    "// the same file if header (.h) file is used!\n",
    "template<class T>\n",
    "class Rectangle {\n",
    "    private:\n",
    "        T length, width;\n",
    "    public:\n",
    "        // default and overloaded constructor\n",
    "        Rectangle(T length=0, T width=0) { \n",
    "            this->setLength(length);\n",
    "            this->setWidth(width);\n",
    "        }; \n",
    "        \n",
    "        void setLength(T length) {\n",
    "            if (length < 0)\n",
    "                length = 0;\n",
    "            this->length = length;\n",
    "        }\n",
    "        \n",
    "        void setWidth(T width) {\n",
    "            if (width == 0)\n",
    "                width = 0;\n",
    "            this->width = width;\n",
    "        }\n",
    "    \n",
    "        T findArea() const {\n",
    "            return this->length*this->width;\n",
    "        }\n",
    "    \n",
    "        T getPerimeter() const {\n",
    "            return 2*(this->length + this->width);\n",
    "        }\n",
    "    \n",
    "        // overload + operator\n",
    "        Rectangle<T> operator+(const Rectangle<T>& rhs) {\n",
    "            Rectangle temp;\n",
    "            temp.length = this->length + rhs.length;\n",
    "            temp.width = this->width + rhs.width;\n",
    "            return temp;\n",
    "        }\n",
    "        \n",
    "        void print() {\n",
    "            cout << \"length = \" << length;\n",
    "            cout << \" width = \" << width;\n",
    "            cout << \" area= \" << findArea();\n",
    "        }\n",
    "};"
   ]
  },
  {
   "cell_type": "code",
   "execution_count": 3,
   "metadata": {},
   "outputs": [],
   "source": [
    "Rectangle<int> r1 = {20, 10};\n",
    "Rectangle<int> r2 = {10, 5};"
   ]
  },
  {
   "cell_type": "code",
   "execution_count": 4,
   "metadata": {},
   "outputs": [],
   "source": [
    "Rectangle<int> r = r1 + r2;"
   ]
  },
  {
   "cell_type": "code",
   "execution_count": 5,
   "metadata": {},
   "outputs": [
    {
     "name": "stdout",
     "output_type": "stream",
     "text": [
      "length = 30 width = 15 area= 450"
     ]
    }
   ],
   "source": [
    "r.print();"
   ]
  },
  {
   "cell_type": "code",
   "execution_count": 6,
   "metadata": {},
   "outputs": [],
   "source": [
    "#include <iostream>\n",
    "using namespace std;"
   ]
  },
  {
   "cell_type": "code",
   "execution_count": 7,
   "metadata": {},
   "outputs": [],
   "source": [
    "template<class T>\n",
    "class MyPair {\n",
    "    T values[2];\n",
    "    public:\n",
    "        MyPair(T first, T second) {\n",
    "            values[0] = first;\n",
    "            values[1] = second;\n",
    "        }\n",
    "        void print() {\n",
    "            cout << \"first: \" << values[0] << \" second: \" << values[1] << endl;\n",
    "        }\n",
    "};"
   ]
  },
  {
   "cell_type": "code",
   "execution_count": 8,
   "metadata": {},
   "outputs": [],
   "source": [
    "MyPair<int> p1(10, 100);\n",
    "MyPair<float> p2(10, 100.99);\n",
    "MyPair<string> p3(\"hello\", \"john\");\n",
    "MyPair<char>p4('A', 'a');"
   ]
  },
  {
   "cell_type": "code",
   "execution_count": 9,
   "metadata": {},
   "outputs": [
    {
     "name": "stdout",
     "output_type": "stream",
     "text": [
      "first: 10 second: 100\n",
      "first: 10 second: 100.99\n",
      "first: hello second: john\n",
      "first: A second: a\n"
     ]
    }
   ],
   "source": [
    "p1.print();\n",
    "p2.print();\n",
    "p3.print();\n",
    "p4.print();"
   ]
  },
  {
   "cell_type": "code",
   "execution_count": 10,
   "metadata": {},
   "outputs": [],
   "source": [
    "template<class T1, class T2>\n",
    "class Pair {\n",
    "    T1 first;\n",
    "    T2 second;\n",
    "    public:\n",
    "        Pair(T1 first, T2 second) {\n",
    "            this->first = first;\n",
    "            this->second = second;\n",
    "        }\n",
    "        void print() {\n",
    "            cout << \"first: \" << this->first << \" second: \" << this->second << endl;\n",
    "        }\n",
    "};"
   ]
  },
  {
   "cell_type": "code",
   "execution_count": 11,
   "metadata": {},
   "outputs": [],
   "source": [
    "Pair<int, int> p5(10, 100);\n",
    "Pair<int, float> p6(10, 100.99);\n",
    "Pair<string, double> p7(\"hello\", 4.5);\n",
    "Pair<char, unsigned int>p8('A', 200);"
   ]
  },
  {
   "cell_type": "code",
   "execution_count": 12,
   "metadata": {},
   "outputs": [
    {
     "name": "stdout",
     "output_type": "stream",
     "text": [
      "first: 10 second: 100\n",
      "first: 10 second: 100.99\n",
      "first: hello second: 4.5\n",
      "first: A second: 200\n"
     ]
    }
   ],
   "source": [
    "p5.print();\n",
    "p6.print();\n",
    "p7.print();\n",
    "p8.print();"
   ]
  },
  {
   "cell_type": "code",
   "execution_count": null,
   "metadata": {},
   "outputs": [],
   "source": []
  }
 ],
 "metadata": {
  "kernelspec": {
   "display_name": "C++14",
   "language": "C++14",
   "name": "xcpp14"
  },
  "language_info": {
   "codemirror_mode": "text/x-c++src",
   "file_extension": ".cpp",
   "mimetype": "text/x-c++src",
   "name": "c++",
   "version": "14"
  }
 },
 "nbformat": 4,
 "nbformat_minor": 2
}
